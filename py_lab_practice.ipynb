{
  "nbformat": 4,
  "nbformat_minor": 0,
  "metadata": {
    "colab": {
      "provenance": [],
      "authorship_tag": "ABX9TyPO5RRoI3ik/z/uYqAUEvqf",
      "include_colab_link": true
    },
    "kernelspec": {
      "name": "python3",
      "display_name": "Python 3"
    },
    "language_info": {
      "name": "python"
    }
  },
  "cells": [
    {
      "cell_type": "markdown",
      "metadata": {
        "id": "view-in-github",
        "colab_type": "text"
      },
      "source": [
        "<a href=\"https://colab.research.google.com/github/Userfound404/Python-Lab-Exercises/blob/main/py_lab_practice.ipynb\" target=\"_parent\"><img src=\"https://colab.research.google.com/assets/colab-badge.svg\" alt=\"Open In Colab\"/></a>"
      ]
    },
    {
      "cell_type": "markdown",
      "source": [
        "# Exercise 2"
      ],
      "metadata": {
        "id": "RkbtnFDYJeIE"
      }
    },
    {
      "cell_type": "code",
      "execution_count": 4,
      "metadata": {
        "colab": {
          "base_uri": "https://localhost:8080/"
        },
        "id": "D50hpBwxIm3l",
        "outputId": "5047565d-cd08-457f-eb7d-ed323635937a"
      },
      "outputs": [
        {
          "output_type": "stream",
          "name": "stdout",
          "text": [
            "Enter first number: 12\n",
            "Enter second number: 44\n",
            "The GCD of 12 and 44 is 4\n"
          ]
        }
      ],
      "source": [
        "#gcd\n",
        "def gcd(a, b):\n",
        "    if b == 0:\n",
        "        return a\n",
        "    return gcd(b, a % b)\n",
        "\n",
        "num1 = int(input(\"Enter first number: \"))\n",
        "num2 = int(input(\"Enter second number: \"))\n",
        "print(\"The GCD of\", num1, \"and\", num2, \"is\", gcd(num1, num2))"
      ]
    },
    {
      "cell_type": "code",
      "source": [
        "# command line addition\n",
        "import sys\n",
        "\n",
        "num1 = int(sys.argv[1])\n",
        "num2 = int(sys.argv[2])\n",
        "print(\"The sum of\", num1, \"and\", num2, \"is\", num1 + num2)"
      ],
      "metadata": {
        "id": "hjATs-98KoPs"
      },
      "execution_count": null,
      "outputs": []
    },
    {
      "cell_type": "markdown",
      "source": [
        "# Exercise 3\n"
      ],
      "metadata": {
        "id": "P4FzXvuUMy3C"
      }
    },
    {
      "cell_type": "code",
      "source": [
        "#check if number is even\n",
        "num = int(input(\"Enter a number: \"))\n",
        "if num % 2 == 0:\n",
        "    print(num, \"is an even number.\")\n",
        "else:\n",
        "    print(num, \"is an odd number.\")"
      ],
      "metadata": {
        "colab": {
          "base_uri": "https://localhost:8080/"
        },
        "id": "bUzSyfxXM9kh",
        "outputId": "80ec60a5-34c5-4685-eedf-c35fc3559fc0"
      },
      "execution_count": 6,
      "outputs": [
        {
          "output_type": "stream",
          "name": "stdout",
          "text": [
            "Enter a number: 33\n",
            "33 is an odd number.\n"
          ]
        }
      ]
    },
    {
      "cell_type": "code",
      "source": [
        "#fib sequence\n",
        "def fib(n):\n",
        "  a, b = 0, 1\n",
        "  while b<n:\n",
        "    print(b, end=' ')\n",
        "    a, b = b , a + b\n",
        " \n",
        "n = int(input(\"Enter the limit: \"))\n",
        "fib(n)"
      ],
      "metadata": {
        "colab": {
          "base_uri": "https://localhost:8080/"
        },
        "id": "IbbUFVVONFSw",
        "outputId": "6b2b2513-738f-4fb1-d597-15dcb3144a3e"
      },
      "execution_count": 8,
      "outputs": [
        {
          "output_type": "stream",
          "name": "stdout",
          "text": [
            "Enter the limit: 23\n",
            "1 1 2 3 5 8 13 21 "
          ]
        }
      ]
    },
    {
      "cell_type": "code",
      "source": [
        "#prime numbers\n",
        "def is_prime(n):\n",
        "  for i in range(2, int(n**0.5)+1):\n",
        "    if n % i == 0:\n",
        "      return False\n",
        "    return True\n",
        "\n",
        "start = int(input(\"Enter the start of interval: \"))\n",
        "end = int(input(\"Enter the end of interval: \"))\n",
        "\n",
        "for i in range(start, end+1):\n",
        "  if(is_prime(i)):\n",
        "    print(i, end=' ')"
      ],
      "metadata": {
        "colab": {
          "base_uri": "https://localhost:8080/"
        },
        "id": "jqL1FeraNyng",
        "outputId": "30fe3766-690c-438d-9720-d68786d01080"
      },
      "execution_count": 12,
      "outputs": [
        {
          "output_type": "stream",
          "name": "stdout",
          "text": [
            "Enter the start of interval: 1\n",
            "Enter the end of interval: 50\n",
            "5 7 9 11 13 15 17 19 21 23 25 27 29 31 33 35 37 39 41 43 45 47 49 "
          ]
        }
      ]
    },
    {
      "cell_type": "markdown",
      "source": [
        "# Exercise 4"
      ],
      "metadata": {
        "id": "TobgE9x9Tnqt"
      }
    },
    {
      "cell_type": "code",
      "source": [
        "# mean, median and mode for a list of numbers\n",
        "import statistics\n",
        "\n",
        "numbers_stats = [ int(x) for x in input(\" Enter the numbers :\").split()]\n",
        "mean = sum(numbers_stats)/ len(numbers_stats)\n",
        "median = statistics.median(numbers_stats)\n",
        "\n",
        "try:\n",
        "  mode = statistics.mode(numbers_stats)\n",
        "except statistics.StatisticsError:\n",
        "  mode = \"unique mode not found\"\n",
        "\n",
        "print(\"Mean:\", mean)\n",
        "print(\"Median:\", median)\n",
        "print(\"Mode:\", mode)"
      ],
      "metadata": {
        "colab": {
          "base_uri": "https://localhost:8080/"
        },
        "id": "1btW_o2GRLEO",
        "outputId": "4e02edfd-91cd-47cb-8f72-9cd98cf3de15"
      },
      "execution_count": 15,
      "outputs": [
        {
          "output_type": "stream",
          "name": "stdout",
          "text": [
            " Enter the numbers :2 3 4 2 3 4 5 3 4 5 5 2 3 5 6 7\n",
            "Mean: 3.9375\n",
            "Median: 4.0\n",
            "Mode: 3\n"
          ]
        }
      ]
    },
    {
      "cell_type": "code",
      "source": [
        "#Converting a list and a tuple into arrays\n",
        "import array\n",
        "\n",
        "a_list = [int(x) for x in input(\"Enter the list elements separated by space: \").split()]\n",
        "a_tuple = tuple(a_list)\n",
        "\n",
        "arr_list = array.array(\"i\", a_list)\n",
        "arr_tuple = array.array(\"i\", a_tuple)\n",
        "\n",
        "print(\"Array from list:\", arr_list)\n",
        "print(\"Array from tuple:\", arr_tuple)"
      ],
      "metadata": {
        "colab": {
          "base_uri": "https://localhost:8080/"
        },
        "id": "ZALcNfW-VRUW",
        "outputId": "d1d7a487-4e25-4e82-fca3-76e6d0e04942"
      },
      "execution_count": 16,
      "outputs": [
        {
          "output_type": "stream",
          "name": "stdout",
          "text": [
            "Enter the list elements separated by space: 1 2 3 4 2 1 5 9 2\n",
            "Array from list: array('i', [1, 2, 3, 4, 2, 1, 5, 9, 2])\n",
            "Array from tuple: array('i', [1, 2, 3, 4, 2, 1, 5, 9, 2])\n"
          ]
        }
      ]
    },
    {
      "cell_type": "code",
      "source": [
        "#find common elements\n",
        "import array\n",
        "\n",
        "arr1 = array.array(\"i\", [int(x) for x in input(\"Enter the elements of first array separated by space: \").split()])\n",
        "arr2 = array.array(\"i\", [int(x) for x in input(\"Enter the elements of second array separated by space: \").split()])\n",
        "\n",
        "print(\"Common elements:\", set(arr1) & set(arr2))\n",
        "print(\"UnCommon elements:\", set(arr1) | set(arr2))"
      ],
      "metadata": {
        "colab": {
          "base_uri": "https://localhost:8080/"
        },
        "id": "Ddof_FnCcGgo",
        "outputId": "6835b275-1fd9-4a4c-880b-b553c0bfd44e"
      },
      "execution_count": 18,
      "outputs": [
        {
          "output_type": "stream",
          "name": "stdout",
          "text": [
            "Enter the elements of first array separated by space: 3 2 4 1 4 1 5 25 9\n",
            "Enter the elements of second array separated by space: 2  4 1  8 6 8 88 2 4 1\n",
            "Common elements: {1, 2, 4}\n",
            "UnCommon elements: {1, 2, 3, 4, 5, 6, 8, 9, 88, 25}\n"
          ]
        }
      ]
    },
    {
      "cell_type": "markdown",
      "source": [
        "# Exercise 5"
      ],
      "metadata": {
        "id": "fRbYm0CIpomX"
      }
    },
    {
      "cell_type": "code",
      "source": [
        "#Counting the number of characters in a string and storing them in a dictionary\n",
        "string_dict = input(\"Enter a string: \")\n",
        "char_count = {}\n",
        "\n",
        "for char in string_dict:\n",
        "    char_count[char] = char_count.get(char, 0) + 1\n",
        "\n",
        "print(\"Character count:\", char_count)"
      ],
      "metadata": {
        "colab": {
          "base_uri": "https://localhost:8080/"
        },
        "id": "xlKIOSqrprL-",
        "outputId": "5b873d1b-ffa0-4ce3-b337-24d0669d0e59"
      },
      "execution_count": 26,
      "outputs": [
        {
          "output_type": "stream",
          "name": "stdout",
          "text": [
            "Enter a string: This is a test string\n",
            "Character count: {'T': 1, 'h': 1, 'i': 3, 's': 4, ' ': 4, 'a': 1, 't': 3, 'e': 1, 'r': 1, 'n': 1, 'g': 1}\n"
          ]
        }
      ]
    },
    {
      "cell_type": "code",
      "source": [
        "#Combining two lists into a dictionary\n",
        "keys = input(\"Enter keys separated by comma: \").split(',')\n",
        "values = input(\"Enter values separated by comma: \").split(',')\n",
        "\n",
        "dictionary = {}\n",
        "for i in range(len(keys)):\n",
        "    dictionary[keys[i]] = values[i]\n",
        "\n",
        "print(\"Dictionary:\", dictionary)\n"
      ],
      "metadata": {
        "colab": {
          "base_uri": "https://localhost:8080/"
        },
        "id": "mrT9RDg0qEMZ",
        "outputId": "a238cda6-c4a4-4f01-f345-4ef47f17ff1b"
      },
      "execution_count": 27,
      "outputs": [
        {
          "output_type": "stream",
          "name": "stdout",
          "text": [
            "Enter keys separated by comma: 3,5,7,9,11,13,15\n",
            "Enter values separated by comma: 2,4,6,8,10,12,14\n",
            "Dictionary: {'3': '2', '5': '4', '7': '6', '9': '8', '11': '10', '13': '12', '15': '14'}\n"
          ]
        }
      ]
    },
    {
      "cell_type": "markdown",
      "source": [
        "# Exercise 6\n"
      ],
      "metadata": {
        "id": "CyDe0RoulwQB"
      }
    },
    {
      "cell_type": "code",
      "source": [
        "# string start check\n",
        "string = input(\"Enter a string: \")\n",
        "start = input(\"Enter starting characters: \")\n",
        "\n",
        "if string.startswith(start):\n",
        "  print(f\"{string} start with {start}\")\n",
        "else:\n",
        "  print(f\"{string} does not start with {start}\")"
      ],
      "metadata": {
        "colab": {
          "base_uri": "https://localhost:8080/"
        },
        "id": "YZowtOSVlykg",
        "outputId": "57e66252-49a2-40d3-a8f5-a80eba5aa3c0"
      },
      "execution_count": 20,
      "outputs": [
        {
          "output_type": "stream",
          "name": "stdout",
          "text": [
            "Enter a string: adithya\n",
            "Enter starting characters: adi\n",
            "adithya start with adi\n"
          ]
        }
      ]
    },
    {
      "cell_type": "code",
      "source": [
        "# check for palindrome\n",
        "string_pal = input('Enter the string: ')\n",
        "if string_pal == string_pal[::-1]:\n",
        "  print(f'{string_pal} is a palindrome')\n",
        "else:\n",
        "  print(f'{string_pal} is not a palindrome')"
      ],
      "metadata": {
        "colab": {
          "base_uri": "https://localhost:8080/"
        },
        "id": "DylZxr0CmZ64",
        "outputId": "a31ee8fa-2a51-4054-fa79-60fe73642ce1"
      },
      "execution_count": 21,
      "outputs": [
        {
          "output_type": "stream",
          "name": "stdout",
          "text": [
            "Enter the string: malayalam\n",
            "malayalam is a palindrome\n"
          ]
        }
      ]
    },
    {
      "cell_type": "markdown",
      "source": [
        "# Exercise 7"
      ],
      "metadata": {
        "id": "lcbUEEhLn2LP"
      }
    },
    {
      "cell_type": "code",
      "source": [
        "#splitting and joining string\n",
        "string_new = \"Hello my name is adithya\"\n",
        "split_string = string_new.split()\n",
        "join_string = \" \".join(split_string)\n",
        "\n",
        "print(\"Split string:\", split_string)\n",
        "print(\"Join string:\", join_string)"
      ],
      "metadata": {
        "colab": {
          "base_uri": "https://localhost:8080/"
        },
        "id": "Fm3bJJsdn-AW",
        "outputId": "079e67c8-b898-4805-f568-1ffa3e7c5bf5"
      },
      "execution_count": 23,
      "outputs": [
        {
          "output_type": "stream",
          "name": "stdout",
          "text": [
            "Split string: ['Hello', 'my', 'name', 'is', 'adithya']\n",
            "Join string: Hello my name is adithya\n"
          ]
        }
      ]
    },
    {
      "cell_type": "code",
      "source": [
        "#sort words in alphabetical order\n",
        "string_sort = input(\"Enter a string: \")\n",
        "words = string_sort.split()\n",
        "words.sort()\n",
        "\n",
        "print(\"Sorted words:\", words)"
      ],
      "metadata": {
        "colab": {
          "base_uri": "https://localhost:8080/"
        },
        "id": "LpCv0CF5o01G",
        "outputId": "aa123223-6ee4-4636-cd0d-14967062ffee"
      },
      "execution_count": 25,
      "outputs": [
        {
          "output_type": "stream",
          "name": "stdout",
          "text": [
            "Enter a string: This is python lab\n",
            "Sorted words: ['This', 'is', 'lab', 'python']\n"
          ]
        }
      ]
    },
    {
      "cell_type": "markdown",
      "source": [
        "# Exercise 8"
      ],
      "metadata": {
        "id": "QIiIFdHLpUxQ"
      }
    },
    {
      "cell_type": "code",
      "source": [
        "# Printing each line of a file in reverse order\n",
        "filename = input(\"Enter filename: \")\n",
        "with open(filename, 'r') as file:\n",
        "    lines = file.readlines()\n",
        "\n",
        "for line in lines[::-1]:\n",
        "    print(line[::-1])"
      ],
      "metadata": {
        "colab": {
          "base_uri": "https://localhost:8080/"
        },
        "id": "294u9ND7pXON",
        "outputId": "bceb3309-5531-41d8-bd4a-bd7c835ed353"
      },
      "execution_count": 28,
      "outputs": [
        {
          "output_type": "stream",
          "name": "stdout",
          "text": [
            "Enter filename: test_text\n",
            "enil driht eht si sihT\n",
            "\n",
            "enil dnoces eht si sihT\n",
            "\n",
            "tset txet elpmas a si sihT\n"
          ]
        }
      ]
    },
    {
      "cell_type": "code",
      "source": [
        "# number of characters, words, and lines in a file\n",
        "filename = input(\"Enter filename: \")\n",
        "char_count = 0\n",
        "word_count = 0\n",
        "line_count = 0\n",
        "\n",
        "with open(filename, 'r') as file:\n",
        "    for line in file:\n",
        "        line_count += 1\n",
        "        char_count += len(line)\n",
        "        word_count += len(line.split())\n",
        "\n",
        "print(\"Number of characters:\", char_count)\n",
        "print(\"Number of words:\", word_count)\n",
        "print(\"Number of lines:\", line_count)"
      ],
      "metadata": {
        "colab": {
          "base_uri": "https://localhost:8080/"
        },
        "id": "oHMX0RW5rLiN",
        "outputId": "685c52a9-0601-4563-c771-bf7227e9d8b6"
      },
      "execution_count": 29,
      "outputs": [
        {
          "output_type": "stream",
          "name": "stdout",
          "text": [
            "Enter filename: test_text\n",
            "Number of characters: 73\n",
            "Number of words: 16\n",
            "Number of lines: 3\n"
          ]
        }
      ]
    },
    {
      "cell_type": "code",
      "source": [
        "#Counting frequency of characters in a given file\n",
        "filename = input(\"Enter filename: \")\n",
        "char_frequency = {}\n",
        "\n",
        "with open(filename, 'r') as file:\n",
        "    for line in file:\n",
        "        for char in line:\n",
        "            char_frequency[char] = char_frequency.get(char, 0) + 1\n",
        "\n",
        "print(\"Character frequency:\", char_frequency)\n"
      ],
      "metadata": {
        "colab": {
          "base_uri": "https://localhost:8080/"
        },
        "id": "ZiV2uFSkrRtE",
        "outputId": "b339b9c3-be90-4ef6-87bf-140cbfb97376"
      },
      "execution_count": 30,
      "outputs": [
        {
          "output_type": "stream",
          "name": "stdout",
          "text": [
            "Enter filename: test_text\n",
            "Character frequency: {'T': 3, 'h': 6, 'i': 9, 's': 9, ' ': 13, 'a': 2, 'm': 1, 'p': 1, 'l': 3, 'e': 8, 't': 7, 'x': 1, '\\n': 2, 'c': 1, 'o': 1, 'n': 3, 'd': 2, 'r': 1}\n"
          ]
        }
      ]
    },
    {
      "cell_type": "code",
      "source": [],
      "metadata": {
        "id": "mxZ7sfJKrZfd"
      },
      "execution_count": null,
      "outputs": []
    }
  ]
}