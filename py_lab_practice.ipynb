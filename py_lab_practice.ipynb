{
  "nbformat": 4,
  "nbformat_minor": 0,
  "metadata": {
    "colab": {
      "provenance": [],
      "authorship_tag": "ABX9TyOy/UQPUbPRHJNfLEQpfuyR",
      "include_colab_link": true
    },
    "kernelspec": {
      "name": "python3",
      "display_name": "Python 3"
    },
    "language_info": {
      "name": "python"
    }
  },
  "cells": [
    {
      "cell_type": "markdown",
      "metadata": {
        "id": "view-in-github",
        "colab_type": "text"
      },
      "source": [
        "<a href=\"https://colab.research.google.com/github/Userfound404/Python-Lab-Exercises/blob/main/py_lab_practice.ipynb\" target=\"_parent\"><img src=\"https://colab.research.google.com/assets/colab-badge.svg\" alt=\"Open In Colab\"/></a>"
      ]
    },
    {
      "cell_type": "markdown",
      "source": [
        "# Exercise 2"
      ],
      "metadata": {
        "id": "RkbtnFDYJeIE"
      }
    },
    {
      "cell_type": "code",
      "execution_count": null,
      "metadata": {
        "colab": {
          "base_uri": "https://localhost:8080/"
        },
        "id": "D50hpBwxIm3l",
        "outputId": "5047565d-cd08-457f-eb7d-ed323635937a"
      },
      "outputs": [
        {
          "output_type": "stream",
          "name": "stdout",
          "text": [
            "Enter first number: 12\n",
            "Enter second number: 44\n",
            "The GCD of 12 and 44 is 4\n"
          ]
        }
      ],
      "source": [
        "#gcd\n",
        "def gcd(a, b):\n",
        "    if b == 0:\n",
        "        return a\n",
        "    return gcd(b, a % b)\n",
        "\n",
        "num1 = int(input(\"Enter first number: \"))\n",
        "num2 = int(input(\"Enter second number: \"))\n",
        "print(\"The GCD of\", num1, \"and\", num2, \"is\", gcd(num1, num2))"
      ]
    },
    {
      "cell_type": "code",
      "source": [
        "# command line addition\n",
        "import sys\n",
        "\n",
        "num1 = int(sys.argv[1])\n",
        "num2 = int(sys.argv[2])\n",
        "print(\"The sum of\", num1, \"and\", num2, \"is\", num1 + num2)"
      ],
      "metadata": {
        "id": "hjATs-98KoPs"
      },
      "execution_count": null,
      "outputs": []
    },
    {
      "cell_type": "markdown",
      "source": [
        "# Exercise 3\n"
      ],
      "metadata": {
        "id": "P4FzXvuUMy3C"
      }
    },
    {
      "cell_type": "code",
      "source": [
        "#check if number is even\n",
        "num = int(input(\"Enter a number: \"))\n",
        "if num % 2 == 0:\n",
        "    print(num, \"is an even number.\")\n",
        "else:\n",
        "    print(num, \"is an odd number.\")"
      ],
      "metadata": {
        "colab": {
          "base_uri": "https://localhost:8080/"
        },
        "id": "bUzSyfxXM9kh",
        "outputId": "80ec60a5-34c5-4685-eedf-c35fc3559fc0"
      },
      "execution_count": null,
      "outputs": [
        {
          "output_type": "stream",
          "name": "stdout",
          "text": [
            "Enter a number: 33\n",
            "33 is an odd number.\n"
          ]
        }
      ]
    },
    {
      "cell_type": "code",
      "source": [
        "#fib sequence\n",
        "def fib(n):\n",
        "  a, b = 0, 1\n",
        "  while b<n:\n",
        "    print(b, end=' ')\n",
        "    a, b = b , a + b\n",
        " \n",
        "n = int(input(\"Enter the limit: \"))\n",
        "fib(n)"
      ],
      "metadata": {
        "colab": {
          "base_uri": "https://localhost:8080/"
        },
        "id": "IbbUFVVONFSw",
        "outputId": "6b2b2513-738f-4fb1-d597-15dcb3144a3e"
      },
      "execution_count": null,
      "outputs": [
        {
          "output_type": "stream",
          "name": "stdout",
          "text": [
            "Enter the limit: 23\n",
            "1 1 2 3 5 8 13 21 "
          ]
        }
      ]
    },
    {
      "cell_type": "code",
      "source": [
        "#prime numbers\n",
        "def is_prime(n):\n",
        "  for i in range(2, int(n**0.5)+1):\n",
        "    if n % i == 0:\n",
        "      return False\n",
        "    return True\n",
        "\n",
        "start = int(input(\"Enter the start of interval: \"))\n",
        "end = int(input(\"Enter the end of interval: \"))\n",
        "\n",
        "for i in range(start, end+1):\n",
        "  if(is_prime(i)):\n",
        "    print(i, end=' ')"
      ],
      "metadata": {
        "colab": {
          "base_uri": "https://localhost:8080/"
        },
        "id": "jqL1FeraNyng",
        "outputId": "30fe3766-690c-438d-9720-d68786d01080"
      },
      "execution_count": null,
      "outputs": [
        {
          "output_type": "stream",
          "name": "stdout",
          "text": [
            "Enter the start of interval: 1\n",
            "Enter the end of interval: 50\n",
            "5 7 9 11 13 15 17 19 21 23 25 27 29 31 33 35 37 39 41 43 45 47 49 "
          ]
        }
      ]
    },
    {
      "cell_type": "markdown",
      "source": [
        "# Exercise 4"
      ],
      "metadata": {
        "id": "TobgE9x9Tnqt"
      }
    },
    {
      "cell_type": "code",
      "source": [
        "# mean, median and mode for a list of numbers\n",
        "import statistics\n",
        "\n",
        "numbers_stats = [ int(x) for x in input(\" Enter the numbers :\").split()]\n",
        "mean = sum(numbers_stats)/ len(numbers_stats)\n",
        "median = statistics.median(numbers_stats)\n",
        "\n",
        "try:\n",
        "  mode = statistics.mode(numbers_stats)\n",
        "except statistics.StatisticsError:\n",
        "  mode = \"unique mode not found\"\n",
        "\n",
        "print(\"Mean:\", mean)\n",
        "print(\"Median:\", median)\n",
        "print(\"Mode:\", mode)"
      ],
      "metadata": {
        "colab": {
          "base_uri": "https://localhost:8080/"
        },
        "id": "1btW_o2GRLEO",
        "outputId": "4e02edfd-91cd-47cb-8f72-9cd98cf3de15"
      },
      "execution_count": null,
      "outputs": [
        {
          "output_type": "stream",
          "name": "stdout",
          "text": [
            " Enter the numbers :2 3 4 2 3 4 5 3 4 5 5 2 3 5 6 7\n",
            "Mean: 3.9375\n",
            "Median: 4.0\n",
            "Mode: 3\n"
          ]
        }
      ]
    },
    {
      "cell_type": "code",
      "source": [
        "#Converting a list and a tuple into arrays\n",
        "import array\n",
        "\n",
        "a_list = [int(x) for x in input(\"Enter the list elements separated by space: \").split()]\n",
        "a_tuple = tuple(a_list)\n",
        "\n",
        "arr_list = array.array(\"i\", a_list)\n",
        "arr_tuple = array.array(\"i\", a_tuple)\n",
        "\n",
        "print(\"Array from list:\", arr_list)\n",
        "print(\"Array from tuple:\", arr_tuple)"
      ],
      "metadata": {
        "colab": {
          "base_uri": "https://localhost:8080/"
        },
        "id": "ZALcNfW-VRUW",
        "outputId": "d1d7a487-4e25-4e82-fca3-76e6d0e04942"
      },
      "execution_count": null,
      "outputs": [
        {
          "output_type": "stream",
          "name": "stdout",
          "text": [
            "Enter the list elements separated by space: 1 2 3 4 2 1 5 9 2\n",
            "Array from list: array('i', [1, 2, 3, 4, 2, 1, 5, 9, 2])\n",
            "Array from tuple: array('i', [1, 2, 3, 4, 2, 1, 5, 9, 2])\n"
          ]
        }
      ]
    },
    {
      "cell_type": "code",
      "source": [
        "#find common elements\n",
        "import array\n",
        "\n",
        "arr1 = array.array(\"i\", [int(x) for x in input(\"Enter the elements of first array separated by space: \").split()])\n",
        "arr2 = array.array(\"i\", [int(x) for x in input(\"Enter the elements of second array separated by space: \").split()])\n",
        "\n",
        "print(\"Common elements:\", set(arr1) & set(arr2))\n",
        "print(\"UnCommon elements:\", set(arr1) | set(arr2))"
      ],
      "metadata": {
        "colab": {
          "base_uri": "https://localhost:8080/"
        },
        "id": "Ddof_FnCcGgo",
        "outputId": "6835b275-1fd9-4a4c-880b-b553c0bfd44e"
      },
      "execution_count": null,
      "outputs": [
        {
          "output_type": "stream",
          "name": "stdout",
          "text": [
            "Enter the elements of first array separated by space: 3 2 4 1 4 1 5 25 9\n",
            "Enter the elements of second array separated by space: 2  4 1  8 6 8 88 2 4 1\n",
            "Common elements: {1, 2, 4}\n",
            "UnCommon elements: {1, 2, 3, 4, 5, 6, 8, 9, 88, 25}\n"
          ]
        }
      ]
    },
    {
      "cell_type": "markdown",
      "source": [
        "# Exercise 5"
      ],
      "metadata": {
        "id": "fRbYm0CIpomX"
      }
    },
    {
      "cell_type": "code",
      "source": [
        "#Counting the number of characters in a string and storing them in a dictionary\n",
        "string_dict = input(\"Enter a string: \")\n",
        "char_count = {}\n",
        "\n",
        "for char in string_dict:\n",
        "    char_count[char] = char_count.get(char, 0) + 1\n",
        "\n",
        "print(\"Character count:\", char_count)"
      ],
      "metadata": {
        "colab": {
          "base_uri": "https://localhost:8080/"
        },
        "id": "xlKIOSqrprL-",
        "outputId": "5b873d1b-ffa0-4ce3-b337-24d0669d0e59"
      },
      "execution_count": null,
      "outputs": [
        {
          "output_type": "stream",
          "name": "stdout",
          "text": [
            "Enter a string: This is a test string\n",
            "Character count: {'T': 1, 'h': 1, 'i': 3, 's': 4, ' ': 4, 'a': 1, 't': 3, 'e': 1, 'r': 1, 'n': 1, 'g': 1}\n"
          ]
        }
      ]
    },
    {
      "cell_type": "code",
      "source": [
        "#Combining two lists into a dictionary\n",
        "keys = input(\"Enter keys separated by comma: \").split(',')\n",
        "values = input(\"Enter values separated by comma: \").split(',')\n",
        "\n",
        "dictionary = {}\n",
        "for i in range(len(keys)):\n",
        "    dictionary[keys[i]] = values[i]\n",
        "\n",
        "print(\"Dictionary:\", dictionary)\n"
      ],
      "metadata": {
        "colab": {
          "base_uri": "https://localhost:8080/"
        },
        "id": "mrT9RDg0qEMZ",
        "outputId": "a238cda6-c4a4-4f01-f345-4ef47f17ff1b"
      },
      "execution_count": null,
      "outputs": [
        {
          "output_type": "stream",
          "name": "stdout",
          "text": [
            "Enter keys separated by comma: 3,5,7,9,11,13,15\n",
            "Enter values separated by comma: 2,4,6,8,10,12,14\n",
            "Dictionary: {'3': '2', '5': '4', '7': '6', '9': '8', '11': '10', '13': '12', '15': '14'}\n"
          ]
        }
      ]
    },
    {
      "cell_type": "markdown",
      "source": [
        "# Exercise 6\n"
      ],
      "metadata": {
        "id": "CyDe0RoulwQB"
      }
    },
    {
      "cell_type": "code",
      "source": [
        "# string start check\n",
        "string = input(\"Enter a string: \")\n",
        "start = input(\"Enter starting characters: \")\n",
        "\n",
        "if string.startswith(start):\n",
        "  print(f\"{string} start with {start}\")\n",
        "else:\n",
        "  print(f\"{string} does not start with {start}\")"
      ],
      "metadata": {
        "colab": {
          "base_uri": "https://localhost:8080/"
        },
        "id": "YZowtOSVlykg",
        "outputId": "57e66252-49a2-40d3-a8f5-a80eba5aa3c0"
      },
      "execution_count": null,
      "outputs": [
        {
          "output_type": "stream",
          "name": "stdout",
          "text": [
            "Enter a string: adithya\n",
            "Enter starting characters: adi\n",
            "adithya start with adi\n"
          ]
        }
      ]
    },
    {
      "cell_type": "code",
      "source": [
        "# check for palindrome\n",
        "string_pal = input('Enter the string: ')\n",
        "if string_pal == string_pal[::-1]:\n",
        "  print(f'{string_pal} is a palindrome')\n",
        "else:\n",
        "  print(f'{string_pal} is not a palindrome')"
      ],
      "metadata": {
        "colab": {
          "base_uri": "https://localhost:8080/"
        },
        "id": "DylZxr0CmZ64",
        "outputId": "a31ee8fa-2a51-4054-fa79-60fe73642ce1"
      },
      "execution_count": null,
      "outputs": [
        {
          "output_type": "stream",
          "name": "stdout",
          "text": [
            "Enter the string: malayalam\n",
            "malayalam is a palindrome\n"
          ]
        }
      ]
    },
    {
      "cell_type": "markdown",
      "source": [
        "# Exercise 7"
      ],
      "metadata": {
        "id": "lcbUEEhLn2LP"
      }
    },
    {
      "cell_type": "code",
      "source": [
        "#splitting and joining string\n",
        "string_new = \"Hello my name is adithya\"\n",
        "split_string = string_new.split()\n",
        "join_string = \" \".join(split_string)\n",
        "\n",
        "print(\"Split string:\", split_string)\n",
        "print(\"Join string:\", join_string)"
      ],
      "metadata": {
        "colab": {
          "base_uri": "https://localhost:8080/"
        },
        "id": "Fm3bJJsdn-AW",
        "outputId": "079e67c8-b898-4805-f568-1ffa3e7c5bf5"
      },
      "execution_count": null,
      "outputs": [
        {
          "output_type": "stream",
          "name": "stdout",
          "text": [
            "Split string: ['Hello', 'my', 'name', 'is', 'adithya']\n",
            "Join string: Hello my name is adithya\n"
          ]
        }
      ]
    },
    {
      "cell_type": "code",
      "source": [
        "#sort words in alphabetical order\n",
        "string_sort = input(\"Enter a string: \")\n",
        "words = string_sort.split()\n",
        "words.sort()\n",
        "\n",
        "print(\"Sorted words:\", words)"
      ],
      "metadata": {
        "colab": {
          "base_uri": "https://localhost:8080/"
        },
        "id": "LpCv0CF5o01G",
        "outputId": "aa123223-6ee4-4636-cd0d-14967062ffee"
      },
      "execution_count": null,
      "outputs": [
        {
          "output_type": "stream",
          "name": "stdout",
          "text": [
            "Enter a string: This is python lab\n",
            "Sorted words: ['This', 'is', 'lab', 'python']\n"
          ]
        }
      ]
    },
    {
      "cell_type": "markdown",
      "source": [
        "# Exercise 8"
      ],
      "metadata": {
        "id": "QIiIFdHLpUxQ"
      }
    },
    {
      "cell_type": "code",
      "source": [
        "# Printing each line of a file in reverse order\n",
        "filename = input(\"Enter filename: \")\n",
        "with open(filename, 'r') as file:\n",
        "    lines = file.readlines()\n",
        "\n",
        "for line in lines[::-1]:\n",
        "    print(line[::-1])"
      ],
      "metadata": {
        "colab": {
          "base_uri": "https://localhost:8080/"
        },
        "id": "294u9ND7pXON",
        "outputId": "bceb3309-5531-41d8-bd4a-bd7c835ed353"
      },
      "execution_count": null,
      "outputs": [
        {
          "output_type": "stream",
          "name": "stdout",
          "text": [
            "Enter filename: test_text\n",
            "enil driht eht si sihT\n",
            "\n",
            "enil dnoces eht si sihT\n",
            "\n",
            "tset txet elpmas a si sihT\n"
          ]
        }
      ]
    },
    {
      "cell_type": "code",
      "source": [
        "# number of characters, words, and lines in a file\n",
        "filename = input(\"Enter filename: \")\n",
        "char_count = 0\n",
        "word_count = 0\n",
        "line_count = 0\n",
        "\n",
        "with open(filename, 'r') as file:\n",
        "    for line in file:\n",
        "        line_count += 1\n",
        "        char_count += len(line)\n",
        "        word_count += len(line.split())\n",
        "\n",
        "print(\"Number of characters:\", char_count)\n",
        "print(\"Number of words:\", word_count)\n",
        "print(\"Number of lines:\", line_count)"
      ],
      "metadata": {
        "colab": {
          "base_uri": "https://localhost:8080/"
        },
        "id": "oHMX0RW5rLiN",
        "outputId": "685c52a9-0601-4563-c771-bf7227e9d8b6"
      },
      "execution_count": null,
      "outputs": [
        {
          "output_type": "stream",
          "name": "stdout",
          "text": [
            "Enter filename: test_text\n",
            "Number of characters: 73\n",
            "Number of words: 16\n",
            "Number of lines: 3\n"
          ]
        }
      ]
    },
    {
      "cell_type": "code",
      "source": [
        "#Counting frequency of characters in a given file\n",
        "filename = input(\"Enter filename: \")\n",
        "char_frequency = {}\n",
        "\n",
        "with open(filename, 'r') as file:\n",
        "    for line in file:\n",
        "        for char in line:\n",
        "            char_frequency[char] = char_frequency.get(char, 0) + 1\n",
        "\n",
        "print(\"Character frequency:\", char_frequency)\n"
      ],
      "metadata": {
        "colab": {
          "base_uri": "https://localhost:8080/"
        },
        "id": "ZiV2uFSkrRtE",
        "outputId": "b339b9c3-be90-4ef6-87bf-140cbfb97376"
      },
      "execution_count": null,
      "outputs": [
        {
          "output_type": "stream",
          "name": "stdout",
          "text": [
            "Enter filename: test_text\n",
            "Character frequency: {'T': 3, 'h': 6, 'i': 9, 's': 9, ' ': 13, 'a': 2, 'm': 1, 'p': 1, 'l': 3, 'e': 8, 't': 7, 'x': 1, '\\n': 2, 'c': 1, 'o': 1, 'n': 3, 'd': 2, 'r': 1}\n"
          ]
        }
      ]
    },
    {
      "cell_type": "markdown",
      "source": [
        "# Exercise 9"
      ],
      "metadata": {
        "id": "MjP0m4ojhXz6"
      }
    },
    {
      "cell_type": "code",
      "source": [
        "#Simple Calculator program using functions\n",
        "def add(num1, num2):\n",
        "    return num1 + num2\n",
        "\n",
        "def subtract(num1, num2):\n",
        "    return num1 - num2\n",
        "\n",
        "def multiply(num1, num2):\n",
        "    return num1 * num2\n",
        "\n",
        "def divide(num1, num2):\n",
        "    return num1 / num2\n",
        "\n",
        "num1 = int(input(\"Enter first number: \"))\n",
        "num2 = int(input(\"Enter second number: \"))\n",
        "\n",
        "print(\"\\nSelect operation:\")\n",
        "print(\"1. Add\")\n",
        "print(\"2. Subtract\")\n",
        "print(\"3. Multiply\")\n",
        "print(\"4. Divide\")\n",
        "\n",
        "choice = int(input(\"Enter choice: \"))\n",
        "\n",
        "if choice == 1:\n",
        "    print(\"\\nResult:\", add(num1, num2))\n",
        "elif choice == 2:\n",
        "    print(\"\\nResult:\", subtract(num1, num2))\n",
        "elif choice == 3:\n",
        "    print(\"\\nResult:\", multiply(num1, num2))\n",
        "elif choice == 4:\n",
        "    print(\"\\nResult:\", divide(num1, num2))\n",
        "else:\n",
        "    print(\"\\nInvalid input\")\n"
      ],
      "metadata": {
        "id": "mxZ7sfJKrZfd",
        "colab": {
          "base_uri": "https://localhost:8080/"
        },
        "outputId": "102ebed1-ca99-43ee-e4bd-a5b4a2836760"
      },
      "execution_count": 1,
      "outputs": [
        {
          "output_type": "stream",
          "name": "stdout",
          "text": [
            "Enter first number: 13\n",
            "Enter second number: 15\n",
            "\n",
            "Select operation:\n",
            "1. Add\n",
            "2. Subtract\n",
            "3. Multiply\n",
            "4. Divide\n",
            "Enter choice: 3\n",
            "\n",
            "Result: 195\n"
          ]
        }
      ]
    },
    {
      "cell_type": "code",
      "source": [
        "#Finding the factorial of a number using recursion\n",
        "def factorial(num):\n",
        "    if num == 1:\n",
        "        return 1\n",
        "    else:\n",
        "        return num * factorial(num - 1)\n",
        "\n",
        "num = int(input(\"Enter a number: \"))\n",
        "print(\"Factorial:\", factorial(num))"
      ],
      "metadata": {
        "colab": {
          "base_uri": "https://localhost:8080/"
        },
        "id": "NF5Mn4zbhmmV",
        "outputId": "dcd45d14-7733-432c-8498-69a5dcd0ea61"
      },
      "execution_count": 2,
      "outputs": [
        {
          "output_type": "stream",
          "name": "stdout",
          "text": [
            "Enter a number: 11\n",
            "Factorial: 39916800\n"
          ]
        }
      ]
    },
    {
      "cell_type": "code",
      "source": [
        "#Finding all duplicates in a list using a function\n",
        "def dups(list):\n",
        "    duplicates = []\n",
        "    for i in range(len(list)):\n",
        "        for j in range(i + 1, len(list)):\n",
        "            if list[i] == list[j]:\n",
        "                duplicates.append(list[i])\n",
        "                break\n",
        "    return duplicates\n",
        "\n",
        "list = [int(x) for x in input(\"Enter elements separated by space: \").split()]\n",
        "print(\"Duplicates:\", dups(list))"
      ],
      "metadata": {
        "colab": {
          "base_uri": "https://localhost:8080/"
        },
        "id": "W8dWMz0-hppR",
        "outputId": "bdd5a055-5983-4db3-eb46-9fa378bc0422"
      },
      "execution_count": 3,
      "outputs": [
        {
          "output_type": "stream",
          "name": "stdout",
          "text": [
            "Enter elements separated by space: 1 3 2 4 1 1 2 8 9 2\n",
            "Duplicates: [1, 2, 1, 2]\n"
          ]
        }
      ]
    },
    {
      "cell_type": "code",
      "source": [
        "# Finding all the unique elements in a list using a function\n",
        "def unique(list):\n",
        "    unique_list = []\n",
        "    for i in list:\n",
        "        if i not in unique_list:\n",
        "            unique_list.append(i)\n",
        "    return unique_list\n",
        "\n",
        "list = [int(x) for x in input(\"Enter elements separated by space: \").split()]\n",
        "print(\"Unique elements:\", unique(list))\n"
      ],
      "metadata": {
        "colab": {
          "base_uri": "https://localhost:8080/"
        },
        "id": "cb9BXCkAhvY9",
        "outputId": "5df8a8a5-bd16-4229-c806-a5b17c11189e"
      },
      "execution_count": 4,
      "outputs": [
        {
          "output_type": "stream",
          "name": "stdout",
          "text": [
            "Enter elements separated by space: 1 2 3 4 4 5 6 1 2 9 8 2 4\n",
            "Unique elements: [1, 2, 3, 4, 5, 6, 9, 8]\n"
          ]
        }
      ]
    },
    {
      "cell_type": "markdown",
      "source": [
        "# Exercise 10"
      ],
      "metadata": {
        "id": "N0abWP4jiEt1"
      }
    },
    {
      "cell_type": "code",
      "source": [
        "def cumulative_product(numbers):\n",
        "  cumulative_product = 1\n",
        "  for num in numbers:\n",
        "    cumulative_product *= num\n",
        "  return cumulative_product\n",
        "\n",
        "print(cumulative_product([1, 2, 3, 4, 5]))"
      ],
      "metadata": {
        "colab": {
          "base_uri": "https://localhost:8080/"
        },
        "id": "S2gBETU0h176",
        "outputId": "c3f401be-7a3d-4ad0-db4b-3f2ba0f9b1db"
      },
      "execution_count": 5,
      "outputs": [
        {
          "output_type": "stream",
          "name": "stdout",
          "text": [
            "120\n"
          ]
        }
      ]
    },
    {
      "cell_type": "code",
      "source": [
        "#Reverse List\n",
        "def reverse(numbers):\n",
        "  return numbers[::-1]\n",
        "\n",
        "print(reverse([1, 2, 3, 4, 5]))"
      ],
      "metadata": {
        "colab": {
          "base_uri": "https://localhost:8080/"
        },
        "id": "nMMYJqBsiKu5",
        "outputId": "a7e7165d-f7be-4c15-e0d1-8fdecc4ecbb3"
      },
      "execution_count": 6,
      "outputs": [
        {
          "output_type": "stream",
          "name": "stdout",
          "text": [
            "[5, 4, 3, 2, 1]\n"
          ]
        }
      ]
    },
    {
      "cell_type": "code",
      "source": [
        "#gcd and lcm\n",
        "import math\n",
        "\n",
        "def gcd(a, b):\n",
        "  return math.gcd(a, b)\n",
        "\n",
        "def lcm(a, b):\n",
        "  return a * b // gcd(a, b)\n",
        "\n",
        "print(gcd(12, 16))\n",
        "print(lcm(12, 16))\n"
      ],
      "metadata": {
        "colab": {
          "base_uri": "https://localhost:8080/"
        },
        "id": "ImqNcjZLiQEW",
        "outputId": "16a54486-71f9-434a-dd55-a5784bb6ea12"
      },
      "execution_count": 7,
      "outputs": [
        {
          "output_type": "stream",
          "name": "stdout",
          "text": [
            "4\n",
            "48\n"
          ]
        }
      ]
    },
    {
      "cell_type": "markdown",
      "source": [
        "# Exercise 11"
      ],
      "metadata": {
        "id": "aXndJ_NxiiVh"
      }
    },
    {
      "cell_type": "code",
      "source": [
        "#Define and Print Matrix\n",
        "def print_matrix(matrix):\n",
        "  for row in matrix:\n",
        "    print(*row)\n",
        "\n",
        "matrix = [[1, 2, 3], [4, 5, 6], [7, 8, 9]]\n",
        "print_matrix(matrix)\n"
      ],
      "metadata": {
        "colab": {
          "base_uri": "https://localhost:8080/"
        },
        "id": "-dOGv1fDiWfQ",
        "outputId": "199a3659-2b1c-4be8-a5ae-171d94267a24"
      },
      "execution_count": 9,
      "outputs": [
        {
          "output_type": "stream",
          "name": "stdout",
          "text": [
            "1 2 3\n",
            "4 5 6\n",
            "7 8 9\n"
          ]
        }
      ]
    },
    {
      "cell_type": "code",
      "source": [
        "#add 2 matrices\n",
        "def add_matrices(matrix1, matrix2):\n",
        "  result = []\n",
        "  for i in range(len(matrix1)):\n",
        "    row = []\n",
        "    for j in range(len(matrix1[0])):\n",
        "      row.append(matrix1[i][j] + matrix2[i][j])\n",
        "    result.append(row)\n",
        "  return result\n",
        "\n",
        "matrix1 = [[1, 2, 3], [4, 5, 6], [7, 8, 9]]\n",
        "matrix2 = [[9, 8, 7], [6, 5, 4], [3, 2, 1]]\n",
        "print_matrix(add_matrices(matrix1, matrix2))\n"
      ],
      "metadata": {
        "colab": {
          "base_uri": "https://localhost:8080/"
        },
        "id": "LhdnadDXiwpZ",
        "outputId": "32c004af-9294-4407-bfdf-45638cf0b920"
      },
      "execution_count": 10,
      "outputs": [
        {
          "output_type": "stream",
          "name": "stdout",
          "text": [
            "10 10 10\n",
            "10 10 10\n",
            "10 10 10\n"
          ]
        }
      ]
    },
    {
      "cell_type": "code",
      "source": [
        "#Multiplication of Two Square Matrices\n",
        "def multiply_matrices(matrix1, matrix2):\n",
        "  result = []\n",
        "  for i in range(len(matrix1)):\n",
        "    row = []\n",
        "    for j in range(len(matrix2[0])):\n",
        "      row.append(sum(matrix1[i][k] * matrix2[k][j] for k in range(len(matrix2))))\n",
        "    result.append(row)\n",
        "  return result\n",
        "\n",
        "matrix1 = [[1, 2, 3], [4, 5, 6], [7, 8, 9]]\n",
        "matrix2 = [[9, 8, 7], [6, 5, 4], [3, 2, 1]]\n",
        "print_matrix(multiply_matrices(matrix1, matrix2))"
      ],
      "metadata": {
        "id": "37HZ43_yiz5p"
      },
      "execution_count": null,
      "outputs": []
    },
    {
      "cell_type": "markdown",
      "source": [
        "#Exercise 13\n"
      ],
      "metadata": {
        "id": "o4GKV87YjHNA"
      }
    },
    {
      "cell_type": "code",
      "source": [
        "#AND, OR, NOT, EX-OR Gates\n",
        "def and_gate(a, b):\n",
        "  return a and b\n",
        "\n",
        "def or_gate(a, b):\n",
        "  return a or b\n",
        "\n",
        "def not_gate(a):\n",
        "  return not a\n",
        "\n",
        "def xor_gate(a, b):\n",
        "  return (a and not b) or (not a and b)\n",
        "\n",
        "print(and_gate(True, True))\n",
        "print(or_gate(True, False))\n",
        "print(not_gate(True))\n",
        "print(xor_gate(True, False))\n"
      ],
      "metadata": {
        "colab": {
          "base_uri": "https://localhost:8080/"
        },
        "id": "gRC_1SOMjJU0",
        "outputId": "a5f7f8c1-7ff5-45ec-e430-aca9040bfeb4"
      },
      "execution_count": 11,
      "outputs": [
        {
          "output_type": "stream",
          "name": "stdout",
          "text": [
            "True\n",
            "True\n",
            "False\n",
            "True\n"
          ]
        }
      ]
    },
    {
      "cell_type": "code",
      "source": [
        "#Half Adder, Full Adder, and Parallel Adder\n",
        "def half_adder(a, b):\n",
        "  sum = xor_gate(a, b)\n",
        "  carry = and_gate(a, b)\n",
        "  return sum, carry\n",
        "\n",
        "def full_adder(a, b, c_in):\n",
        "  sum1, carry1 = half_adder(a, b)\n",
        "  sum2, carry2 = half_adder(sum1, c_in)\n",
        "  return sum2, carry1 or carry2\n",
        "\n",
        "def parallel_adder(a, b, c_in):\n",
        "  carries = []\n",
        "  for i in range(len(a)):\n",
        "    sum, carry = full_adder(a[i], b[i], c_in)\n",
        "    carries.append(carry)\n",
        "    c_in = carry\n",
        "  return carries\n",
        "\n",
        "a = [1, 0, 1, 1]\n",
        "b = [0, 1, 0, 0]\n",
        "c_in = 0\n",
        "print(parallel_adder(a, b, c_in))\n"
      ],
      "metadata": {
        "colab": {
          "base_uri": "https://localhost:8080/"
        },
        "id": "1DBJIapljNtT",
        "outputId": "69169e6b-c345-4657-c4fc-ac0e2848930e"
      },
      "execution_count": 12,
      "outputs": [
        {
          "output_type": "stream",
          "name": "stdout",
          "text": [
            "[0, 0, 0, 0]\n"
          ]
        }
      ]
    },
    {
      "cell_type": "code",
      "source": [],
      "metadata": {
        "id": "IN7yXJIajSAj"
      },
      "execution_count": null,
      "outputs": []
    }
  ]
}